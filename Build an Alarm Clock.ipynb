{
 "cells": [
  {
   "cell_type": "code",
   "execution_count": 19,
   "id": "70c655f6",
   "metadata": {},
   "outputs": [
    {
     "name": "stdout",
     "output_type": "stream",
     "text": [
      "Defaulting to user installation because normal site-packages is not writeableNote: you may need to restart the kernel to use updated packages.\n",
      "\n",
      "Requirement already satisfied: playsound in c:\\users\\hp\\appdata\\roaming\\python\\python39\\site-packages (1.3.0)\n"
     ]
    }
   ],
   "source": [
    "pip install playsound"
   ]
  },
  {
   "cell_type": "code",
   "execution_count": 23,
   "id": "3b327f94",
   "metadata": {},
   "outputs": [],
   "source": [
    "from playsound import playsound\n",
    "import time"
   ]
  },
  {
   "cell_type": "code",
   "execution_count": 43,
   "id": "125b8513",
   "metadata": {},
   "outputs": [],
   "source": [
    "CLEAR =\"\\033[2]\"\n",
    "CLEAR_AND_RETURN = \"\\033[H]\""
   ]
  },
  {
   "cell_type": "code",
   "execution_count": 44,
   "id": "784221a9",
   "metadata": {},
   "outputs": [
    {
     "name": "stdout",
     "output_type": "stream",
     "text": [
      "How many minutes to wait :0\n",
      "How many seconds to wait :5\n",
      "\u001b[2]\n",
      "\u001b[H]Alarm will sound in: 00:04\n",
      "\u001b[H]Alarm will sound in: 00:03\n",
      "\u001b[H]Alarm will sound in: 00:02\n",
      "\u001b[H]Alarm will sound in: 00:01\n",
      "\u001b[H]Alarm will sound in: 00:00\n"
     ]
    }
   ],
   "source": [
    "\n",
    "\n",
    "\n",
    "def alarm(seconds):\n",
    "    time_elapsed = 0\n",
    "    \n",
    "    print(CLEAR)\n",
    "    while time_elapsed < seconds:\n",
    "        time.sleep(1)\n",
    "        time_elapsed += 1\n",
    "        \n",
    "        time_left = seconds - time_elapsed\n",
    "        minutes_left = time_left // 60\n",
    "        seconds_left = time_left % 60\n",
    "        \n",
    "        print(f\"{CLEAR_AND_RETURN}Alarm will sound in: {minutes_left:02d}:{seconds_left:02d}\")\n",
    "        \n",
    "    playsound(\"Alarm-Fast-A1-www.fesliyanstudios.com.mp3\")  \n",
    "minutes = int(input(\"How many minutes to wait :\"))\n",
    "seconds = int(input(\"How many seconds to wait :\"))\n",
    "total_seconds = minutes * 60 + seconds\n",
    "alarm(total_seconds)   "
   ]
  },
  {
   "cell_type": "code",
   "execution_count": null,
   "id": "46cf61c5",
   "metadata": {},
   "outputs": [],
   "source": []
  }
 ],
 "metadata": {
  "kernelspec": {
   "display_name": "Python 3 (ipykernel)",
   "language": "python",
   "name": "python3"
  },
  "language_info": {
   "codemirror_mode": {
    "name": "ipython",
    "version": 3
   },
   "file_extension": ".py",
   "mimetype": "text/x-python",
   "name": "python",
   "nbconvert_exporter": "python",
   "pygments_lexer": "ipython3",
   "version": "3.9.12"
  }
 },
 "nbformat": 4,
 "nbformat_minor": 5
}
